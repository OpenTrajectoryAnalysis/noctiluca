{
 "cells": [
  {
   "cell_type": "code",
   "execution_count": null,
   "metadata": {},
   "outputs": [],
   "source": [
    "import noctiluca as nl"
   ]
  },
  {
   "cell_type": "markdown",
   "metadata": {},
   "source": [
    "# TaggedSet\n",
    "The ``TaggedSet`` is used to store and work with collections of trajectories (data sets). At its core, this is a list of trajectories:"
   ]
  },
  {
   "cell_type": "code",
   "execution_count": null,
   "metadata": {},
   "outputs": [],
   "source": [
    "data = nl.TaggedSet()\n",
    "for i in range(10):\n",
    "    data.add(nl.Trajectory(i)) # inject some dummy trajectories into `data`\n",
    "\n",
    "print(f\"Number of trajectories: {len(data)}\")\n",
    "print(f\"Trajectory #5: {data[5]}\")"
   ]
  },
  {
   "cell_type": "markdown",
   "metadata": {},
   "source": [
    "So what's the use of this? Afterall, python already has lists. This is where the \"Tagged\" part comes in.\n",
    "\n",
    "The fundamental idea of the ``TaggedSet`` is to identify different \"kinds\" of trajectories (experimental conditions, framerates, etc.) by attaching **tags**, thus facilitating queries like\n",
    "\n",
    "+ plot ``<some nice plot>`` for all trajectories in the **ΔCTCF** condition\n",
    "+ run ``<some analysis>`` on all **10ms** trajectories\n",
    "+ run ``<some detailed analysis>`` on all **10ms** trajectories from the **ΔCTCF** condition\n",
    "\n",
    "Note that the picture at this point stops being that of a classic list. Instead, a ``TaggedSet`` should be thought of as an unordered heap of labelled trajectories: just pile all your data into it. If you want to work with some subset of trajectories, you pull everything with the proper label out of the heap. (This understanding is why it's ``TaggedSet``, not ``TaggedList``.)\n",
    "\n",
    "Let's see how that works:"
   ]
  },
  {
   "cell_type": "code",
   "execution_count": null,
   "metadata": {},
   "outputs": [],
   "source": [
    "data = nl.TaggedSet()\n",
    "\n",
    "ind = 0\n",
    "for _ in range(5):\n",
    "    data.add(nl.Trajectory(ind), tags=['10ms', 'ΔCTCF'])\n",
    "    ind += 1\n",
    "for _ in range(5):\n",
    "    data.add(nl.Trajectory(ind), tags=['100ms', 'ΔCTCF'])\n",
    "    ind += 1\n",
    "for _ in range(5):\n",
    "    data.add(nl.Trajectory(ind), tags=['10ms', 'WT'])\n",
    "    ind += 1\n",
    "for _ in range(5):\n",
    "    data.add(nl.Trajectory(ind), tags=['100ms', 'WT'])\n",
    "    ind += 1\n",
    "for _ in range(5):\n",
    "    data.add(nl.Trajectory(ind))\n",
    "    ind += 1\n",
    "    \n",
    "# `data` now contains 20 trajectories\n",
    "# each trajectory has only one data point, which we use as index to identify the trajectories\n",
    "# trajectories  0-4  carry the tags '10ms'  and 'ΔCTCF'\n",
    "# trajectories  5-9  carry the tags '100ms' and 'ΔCTCF'\n",
    "# trajectories 10-14 carry the tags '10ms'  and 'WT'\n",
    "# trajectories 15-19 carry the tags '100ms' and 'WT'\n",
    "# trajectories 20-24 carry no tags\n",
    "\n",
    "print(f\"total number of trajectories: {len(data)}\")\n",
    "print()\n",
    "    \n",
    "data.makeSelection('ΔCTCF')\n",
    "print(f\"trajectories in ΔCTCF condition:                           \", \" \".join([str(traj[0][0]) for traj in data]))\n",
    "\n",
    "data.makeSelection('10ms')\n",
    "print(f\"trajectories with 10ms framerate:                          \", \" \".join([str(traj[0][0]) for traj in data]))\n",
    "\n",
    "data.makeSelection(tags=['10ms', 'ΔCTCF'], logic=all)\n",
    "print(f\"trajectories with 10ms framerate in ΔCTCF condition:       \", \" \".join([str(traj[0][0]) for traj in data]))\n",
    "\n",
    "data.makeSelection(tags=['10ms', 'ΔCTCF'], logic=any)\n",
    "print(f\"trajectories with either 10ms framerate or ΔCTCF condition:\", \" \".join([str(traj[0][0]) for traj in data]))\n",
    "\n",
    "print()\n",
    "data.makeSelection()\n",
    "print(f\"Still containing all {len(data)} trajectories\")"
   ]
  },
  {
   "cell_type": "markdown",
   "metadata": {},
   "source": [
    "A few things to note about the above code:\n",
    "\n",
    "+ ``TaggedSet`` objects are iterable, i.e. can be used in ``for`` loops\n",
    "+ once the trajectories of interest are selected by ``makeSelection()``, the ``TaggedSet`` object behaves as if it contained only those trajectories. The calls for producing the actual output are thus exactly identical.\n",
    "+ when selecting by multiple tags, you have to specify whether you want those trajectories that have *all* the tags, or those that have *any* of them. The ``logic`` keyword accepts callables like python's built-in ``all()`` or ``any()``; you can also write a more specific logic yourself. See also below for tips on making complicated selections\n",
    "+ calling ``makeSelection()`` without arguments resets the selection to the whole data set"
   ]
  },
  {
   "cell_type": "markdown",
   "metadata": {},
   "source": [
    "## Working with tags\n",
    "Three useful features when working with tags:\n",
    "\n",
    "+ ``TaggedSet.tagset()`` returns a set of all tags in the current data\n",
    "+ ``TaggedSet.addTags()`` adds one or more tags to all trajectories\n",
    "+ you can use call syntax to also return tags when iterating"
   ]
  },
  {
   "cell_type": "code",
   "execution_count": null,
   "metadata": {},
   "outputs": [],
   "source": [
    "data.makeSelection() # good style: clear selection before doing anything\n",
    "print(f\"Full set of available tags: {data.tagset()}\")\n",
    "\n",
    "print(\"Adding new tag to identify trajectories with '10ms' and 'ΔCTCF' tags\")\n",
    "data.makeSelection(['10ms', 'ΔCTCF'], logic=all)\n",
    "data.addTags(\"10ms + ΔCTCF\")\n",
    "data.makeSelection()\n",
    "print(f\"Full set of available tags: {data.tagset()}\")\n",
    "\n",
    "data.makeSelection('10ms + ΔCTCF')\n",
    "print(f\"trajectories with '10ms + ΔCTCF' tag:\", \" \".join([str(traj[0][0]) for traj in data]))\n",
    "\n",
    "print()\n",
    "\n",
    "data.makeSelection()\n",
    "for traj, tags in data(giveTags=True):\n",
    "    print(f\" - trajectory #{traj[0][0]:2d} carries tags: {tags}\")"
   ]
  },
  {
   "cell_type": "markdown",
   "metadata": {},
   "source": [
    "## More complicated selections\n",
    "Sometimes you need to pull trajectories by a criterion that does not naturally have a tag associated with it. The mechanism for custom selections is to hand a callable (i.e. function) to ``TaggedSet.makeSelection()``. This callable should expect two arguments—the trajectory and the associated tags—and return a bool, indicating whether it should be selected or not. A natural use case for this mechanism is to filter by trajectory length."
   ]
  },
  {
   "cell_type": "code",
   "execution_count": null,
   "metadata": {},
   "outputs": [],
   "source": [
    "data.makeSelection(lambda traj, _ : 7 < traj[0][0] < 12)\n",
    "print(\"Selected trajectories:\", \" \".join([str(traj[0][0]) for traj in data]))\n",
    "\n",
    "data.makeSelection(lambda traj, tags : 'ΔCTCF' in tags and 7 < traj[0][0] < 12)\n",
    "print(\"Selected trajectories:\", \" \".join([str(traj[0][0]) for traj in data]))"
   ]
  },
  {
   "cell_type": "markdown",
   "metadata": {},
   "source": [
    "The second version, where we filter by a tag and then also by a user-defined feature, could also be written as a selection in multiple steps. This is achieved by using ``refineSelection()``, as shown below. In fact this is the recommended pattern, since it is more readable and modular."
   ]
  },
  {
   "cell_type": "code",
   "execution_count": null,
   "metadata": {},
   "outputs": [],
   "source": [
    "data.makeSelection('ΔCTCF')\n",
    "data.refineSelection(lambda traj, _ : 7 < traj[0][0] < 12)\n",
    "print(\"Selected trajectories:\", \" \".join([str(traj[0][0]) for traj in data]))"
   ]
  },
  {
   "cell_type": "markdown",
   "metadata": {},
   "source": [
    "Selections can be saved temporarily and then restored. This is useful for cycling through subselection steps; note however that it is often more readable to just repeat the full selection process."
   ]
  },
  {
   "cell_type": "code",
   "execution_count": null,
   "metadata": {},
   "outputs": [],
   "source": [
    "data.makeSelection(lambda traj, _ : 7 < traj[0][0] < 12)\n",
    "sel = data.saveSelection()\n",
    "for tag in ['ΔCTCF', 'WT']:\n",
    "    data.restoreSelection(sel)\n",
    "    data.refineSelection(tag)\n",
    "    print(\"Selected trajectories:\", \" \".join([str(traj[0][0]) for traj in data]))"
   ]
  },
  {
   "cell_type": "markdown",
   "metadata": {},
   "source": [
    "Sometimes you need a random subset of your data; ``makeSelection()`` accepts the keyword arguments ``nrand=...`` to randomly select a given number of trajectories, and ``prand=...`` to select each trajectory with a given probability:"
   ]
  },
  {
   "cell_type": "code",
   "execution_count": null,
   "metadata": {},
   "outputs": [],
   "source": [
    "data.makeSelection(nrand=3)\n",
    "print(\"selected trajectories:\", \" \".join(str(traj[0][0]) for traj in data))"
   ]
  },
  {
   "cell_type": "markdown",
   "metadata": {},
   "source": [
    "## Data processing\n",
    "A ``TaggedSet`` is iterable (see above), which means that it naturally interfaces with built-in functions such as ``map()``. For example, to get the length of all trajectories in the set:"
   ]
  },
  {
   "cell_type": "code",
   "execution_count": null,
   "metadata": {},
   "outputs": [],
   "source": [
    "data.makeSelection()\n",
    "print(\"Trajectory lengths:\", list(map(len, data)))"
   ]
  },
  {
   "cell_type": "markdown",
   "metadata": {},
   "source": [
    "To modify the actual data use ``TaggedSet.apply()``. This has the benefit (over ``map()``) of keeping the tags associated with the trajectory in order."
   ]
  },
  {
   "cell_type": "code",
   "execution_count": null,
   "metadata": {},
   "outputs": [],
   "source": [
    "data.makeSelection('WT')\n",
    "data_new = data.apply(lambda traj: traj.rescale(-1))\n",
    "data.makeSelection()\n",
    "data_new.makeSelection() # this is unnecessary, just for clarity\n",
    "print(\"data:\",     \" \".join(str(traj[0][0]) for traj in data))\n",
    "print(\"data_new:\", \" \".join(str(traj[0][0]) for traj in data_new))"
   ]
  },
  {
   "cell_type": "markdown",
   "metadata": {},
   "source": [
    "To overwrite the original data with the new results, you can use ``apply(..., inplace=True)``.\n",
    "\n",
    "Sometimes you need to access some information about your trajectories that should be the same for all of them (e.g. length in the example above; more commonly things like \"number of particles\", \"number of spatial dimensions\", etc.). That is what ``map_unique()`` achieves. Note that this is safer than quickfix solutions such as simply querying the first trajectory (and not checking that the result is indeed the same for the whole dataset), since it raises a ``RuntimeError`` if the values are different."
   ]
  },
  {
   "cell_type": "code",
   "execution_count": null,
   "metadata": {},
   "outputs": [],
   "source": [
    "data.makeSelection()\n",
    "print(f\"All trajectories have N={data.map_unique(lambda traj: traj.N)}, \"\n",
    "                            f\"d={data.map_unique(lambda traj: traj.d)}, \"\n",
    "                            f\"and {data.map_unique(lambda traj: len(traj))} frames\")\n",
    "\n",
    "try:\n",
    "    data.map_unique(lambda traj: traj[0][0])\n",
    "except RuntimeError:\n",
    "    print(\"Data content is not the same for all trajectories!\")"
   ]
  },
  {
   "cell_type": "markdown",
   "metadata": {},
   "source": [
    "## Merging data sets\n",
    "Merging the trajectories from one ``TaggedSet`` into another one can be achieved by the ``mergein()`` function, or equivalently the ``|=`` operator (the latter being inspired by the understanding of ``TaggedSet`` as a set)."
   ]
  },
  {
   "cell_type": "code",
   "execution_count": null,
   "metadata": {},
   "outputs": [],
   "source": [
    "data.makeSelection()\n",
    "print(f\"before adding trajectories: len(data) = {len(data)}\")\n",
    "\n",
    "more_data = nl.TaggedSet([nl.Trajectory(i) for i in range(25, 30)], hasTags=False)\n",
    "data |= more_data\n",
    "print(f\"added 5 new trajectories:   len(data) = {len(data)}\")"
   ]
  },
  {
   "cell_type": "markdown",
   "metadata": {},
   "source": [
    "## Next: In- & Output from/to file or memory\n",
    "In the next tutorial we will learn how to read/write data, thus concluding the core tutorial series."
   ]
  }
 ],
 "metadata": {
  "kernelspec": {
   "display_name": "Python 3",
   "language": "python",
   "name": "python3"
  },
  "language_info": {
   "codemirror_mode": {
    "name": "ipython",
    "version": 3
   },
   "file_extension": ".py",
   "mimetype": "text/x-python",
   "name": "python",
   "nbconvert_exporter": "python",
   "pygments_lexer": "ipython3",
   "version": "3.7.3"
  }
 },
 "nbformat": 4,
 "nbformat_minor": 2
}
