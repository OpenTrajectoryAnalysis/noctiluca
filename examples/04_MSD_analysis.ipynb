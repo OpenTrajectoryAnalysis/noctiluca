{
 "cells": [
  {
   "cell_type": "code",
   "execution_count": null,
   "metadata": {},
   "outputs": [],
   "source": [
    "import numpy as np\n",
    "from matplotlib import pyplot as plt\n",
    "from tqdm.auto import tqdm\n",
    "import noctiluca as nl"
   ]
  },
  {
   "cell_type": "markdown",
   "metadata": {},
   "source": [
    "# MSD analysis\n",
    "The mean squared displacement—MSD—is one of the most frequently used statistics on SPT data. ``noctiluca`` provides some functionality to calculate these. Note, however, that MSD analysis is statistically non-trivial (e.g. [Vestergaard et al.](https://journals.aps.org/pre/abstract/10.1103/PhysRevE.89.022726) note that estimating diffusion coefficients from linear MSD fits is suboptimal). Thus, for production MSD analysis, we recommend [bayesmsd](https://github.com/OpenTrajectoryAnalysis/bayesmsd), a downstream analysis library building on ``noctiluca``.\n",
    "\n",
    "In the language of ``bayesmsd``, the MSDs calculated by ``noctiluca`` are *empirical MSDs*, i.e. directly calculated from the raw data, using the formula\n",
    "\\begin{equation}\n",
    "\\text{MSD}(\\Delta t) := \\left\\langle (x(t+\\Delta t) - x(t))^2 \\right\\rangle_t\\,.\n",
    "\\end{equation}\n",
    "Let's see how this is done."
   ]
  },
  {
   "cell_type": "code",
   "execution_count": null,
   "metadata": {},
   "outputs": [],
   "source": [
    "# Step 1: generate an example data set that we will use for the remainder of this example\n",
    "# We use 100 standard random walk (i.e. simple diffusion) trajectories in 2D, with 100 data points per trajectory\n",
    "data = nl.make_TaggedSet(np.cumsum(np.random.normal(size=(100, 100, 2)), axis=1))"
   ]
  },
  {
   "cell_type": "code",
   "execution_count": null,
   "metadata": {},
   "outputs": [],
   "source": [
    "# Step 2: look at MSDs\n",
    "nl.plot.msd_overview(tqdm(data), color='tab:blue', alpha=0.2)\n",
    "\n",
    "plt.xlabel('time [frames]')\n",
    "plt.ylabel('MSD [a.u.]')\n",
    "plt.title('Single trajectory & ensemble MSDs')\n",
    "plt.show()"
   ]
  },
  {
   "cell_type": "markdown",
   "metadata": {},
   "source": [
    "Let's dissect what just happened:\n",
    "\n",
    "+ in the first step we created an example data set. For more details on this, check the previous tutorials on ``TaggedSet`` and I/O.\n",
    "+ ``msd_overview()`` is a function that generates plots like the one above. It is generally useful to get a quick overview over your dataset.\n",
    "+ the actual MSD calculation is done by the ``nl.analysis`` module, which we will describe in more detail below; ``msd_overview()`` internally simply calls ``analysis.MSD()``.\n",
    "+ ``msd_overview()`` allows some customization of the plot by forwarding all keyword arguments to the ``pyplot.plot()`` calls for the single trajectory MSDs. For more detailed customization, use the returned list of ``matplotlib.Line2D`` objects\n",
    "+ note that we can use the nice progress bar provided by [tqdm](https://github.com/tqdm/tqdm) to keep tabs on the calculation while it is running; this comes in handy when working with large datasets\n",
    "\n",
    "## More on ``analysis.MSD()``\n",
    "As mentioned, the actual MSD calculation is performed by the ``nl.analysis`` module, which provides the ``MSD()`` function that can be used to calculate MSDs for single trajectories, or whole datasets:"
   ]
  },
  {
   "cell_type": "code",
   "execution_count": null,
   "metadata": {},
   "outputs": [],
   "source": [
    "traj = data[0] # pick some trajectory\n",
    "msd_traj = nl.analysis.MSD(traj)\n",
    "msd_data = nl.analysis.MSD(data)\n",
    "\n",
    "plt.loglog(msd_traj, color='tab:blue', label='single trajectory')\n",
    "plt.loglog(msd_data, color='k', linewidth=2, label='whole dataset')\n",
    "plt.legend()\n",
    "plt.show()"
   ]
  },
  {
   "cell_type": "markdown",
   "metadata": {},
   "source": [
    "If you are running this notebook live, you might have noticed that this time the calculation of the ensemble MSD was almost instant, while for the first plot it took about a second. What's different here?\n",
    "\n",
    "``analysis.MSD()`` caches the MSD calculations it does for any ``Trajectory``—in that ``Trajectory``'s ``meta``-dict:"
   ]
  },
  {
   "cell_type": "code",
   "execution_count": null,
   "metadata": {},
   "outputs": [],
   "source": [
    "print(\"traj.meta:       \", traj.meta.keys())\n",
    "print(\"traj.meta['MSD']:\", traj.meta['MSD'].keys())\n",
    "print()\n",
    "print(\"nl.analysis.MSD(traj) is traj.meta['MSD']['data']:\", nl.analysis.MSD(traj) is traj.meta['MSD']['data'])"
   ]
  },
  {
   "cell_type": "markdown",
   "metadata": {},
   "source": [
    "When ``nl.analysis.MSD()`` is called on a ``Trajectory``, it checks whether the ``meta['MSD']`` entry exists; if so, it skips the whole calculation and just returns the stored value. This means that once you calculate MSDs on all your trajectories, running downstream analyses (e.g. MSD grouped by different conditions) is fast. So don't feel bad about calling ``nl.analysis.MSD()`` on the same data 5 times in a row! It will do the actual calculation only once."
   ]
  },
  {
   "cell_type": "markdown",
   "metadata": {},
   "source": [
    "## Time averaging\n",
    "By default, ``analysis.MSD()`` calculates a time-averaged MSD (TA-MSD). To prevent this:"
   ]
  },
  {
   "cell_type": "code",
   "execution_count": null,
   "metadata": {},
   "outputs": [],
   "source": [
    "e_msd = nl.analysis.MSD(data, TA=False, recalculate=True)\n",
    "\n",
    "plt.loglog(e_msd, label='eMSD')\n",
    "plt.loglog(msd_data, label='TA-MSD') # this was calculated above\n",
    "\n",
    "plt.legend()\n",
    "plt.show()"
   ]
  },
  {
   "cell_type": "markdown",
   "metadata": {},
   "source": [
    "In addition to ``TA=False``, note the use of ``recalculate=True``; with this switch ``MSD()`` will ignore cached values and just run the calculation in any case. Remember to use this when calculating MSDs with different settings for ``TA``!"
   ]
  },
  {
   "cell_type": "markdown",
   "metadata": {},
   "source": [
    "## Parallelization\n",
    "If the dataset in question is very large, calculating MSDs can take some time; we might want to run those calculations on multiple cores in parallel. ``noctiluca`` has the following mechanism for this:"
   ]
  },
  {
   "cell_type": "code",
   "execution_count": null,
   "metadata": {},
   "outputs": [],
   "source": [
    "from multiprocessing import Pool\n",
    "\n",
    "n_processes = 1 # keep it simple for this example\n",
    "with Pool(1) as mypool:\n",
    "    with nl.Parallelize(map_like=mypool.imap):\n",
    "        msd = nl.analysis.MSD(data, recalculate=True)"
   ]
  },
  {
   "cell_type": "markdown",
   "metadata": {},
   "source": [
    "The ``nl.Parallelize`` context manager (defined in ``nl.util.parallel``) is designed as an adapter between the parallelization framework of your liking and ``noctiluca`` functions. It allows you to specify a function to replace python's built-in ``map()`` with; in this example we used ``multiprocessing.Pool.imap()``.\n",
    "\n",
    "Functions wrapped by this context manager need to be \"aware\" of this mechanism; note the corresponding statement in the ``analysis.MSD()`` docstring.\n",
    "\n",
    "Whenever possible, it is faster to use ``Pool.imap_unordered()`` instead of ``Pool.imap()``; accordingly, you can provide a second argument to ``Parallelize()``. \"Parallel-aware\" functions will always indicate whether they use the ordered or unordered version.\n",
    "\n",
    "The function ``TaggedSet.apply()``—demonstrated in the ``TaggedSet`` tutorial—is another parallel-aware function in ``noctiluca``."
   ]
  },
  {
   "cell_type": "markdown",
   "metadata": {},
   "source": [
    "# Other two-point functions\n",
    "Using ``nl.analysis.MSD()`` in the examples above is actually a short-cut: under the hood, ``MSD()`` lives in ``nl.analysis.p2`` and is in fact just a simple call to ``nl.analysis.p2.P2()`` (which then in turn dispatches to ``p2.P2dataset()`` or ``p2.P2traj()``). What's all this?\n",
    "\n",
    "The MSD is just one of various \"two-point functions\" that may be of interest for SPT analysis. Others include the autocovariance\n",
    "\\begin{equation}\n",
    "\\text{ACov}(\\Delta t) := \\left\\langle x(t+\\Delta t)x(t) \\right\\rangle_t\\,,\n",
    "\\end{equation}\n",
    "the velocity autocorrelation\n",
    "\\begin{equation}\n",
    "\\text{ACov}(\\Delta t) := \\left\\langle v(t+\\Delta t)v(t) \\right\\rangle_t \\qquad v(t) \\equiv x(t+\\tau_\\text{frame}) - x(t) \\,,\n",
    "\\end{equation}\n",
    "\n",
    "or other user-defined versions of these. ``noctiluca.analysis`` provides ``MSD()``, ``ACov()``, ``VACov()``, ``ACorr()`` (auto*correlation*), and ``VACorr()`` (velocity auto*correlation*), all of which work pretty much exactly like demonstrated above for ``MSD()``.\n",
    "\n",
    "All of the above are implemented as special cases of a generic \"two-point function\" (the \"two-point\" referring to the fact that these are averages including two different time points along the trajectory):\n",
    "\\begin{equation}\n",
    "\\text{P2}(\\Delta t) = \\left\\langle f\\left(x(t+\\Delta t), x(t)\\right) \\right\\rangle_t\\,,\n",
    "\\end{equation}\n",
    "with different functions $f$ (and in the case of correlation functions also some normalization on each trajectory before taking the ensemble average).\n",
    "\n",
    "You can define your own two-point function and take advantage of the full functionality implemented in ``P2()`` (such as parallelization of ensemble averages, time averaging or no, caching, etc.) by just specifying the function $f$. For example, here is the full definition of ``analysis.MSD()``:"
   ]
  },
  {
   "cell_type": "code",
   "execution_count": null,
   "metadata": {},
   "outputs": [],
   "source": [
    "def SD(x, y):\n",
    "    return np.sum((x-y)**2, axis=-1)\n",
    "\n",
    "def MSD(*args, **kwargs):\n",
    "    return nl.analysis.p2.P2(*args, **kwargs, function=SD, writeto='MSD')"
   ]
  },
  {
   "cell_type": "markdown",
   "metadata": {},
   "source": [
    "The last keyword ``writeto`` specifies which ``meta`` entry of the trajectories to use for caching the calculation.\n",
    "\n",
    "For more details, read the documentation of ``analysis.p2.P2traj()``, ``analysis.p2.P2dataset()``, and [analysis.p2.P2()](../noctiluca.analysis.rst#noctiluca.analysis.p2.P2)"
   ]
  },
  {
   "cell_type": "code",
   "execution_count": null,
   "metadata": {},
   "outputs": [],
   "source": []
  },
  {
   "cell_type": "code",
   "execution_count": null,
   "metadata": {},
   "outputs": [],
   "source": []
  },
  {
   "cell_type": "code",
   "execution_count": null,
   "metadata": {},
   "outputs": [],
   "source": []
  },
  {
   "cell_type": "code",
   "execution_count": null,
   "metadata": {},
   "outputs": [],
   "source": []
  },
  {
   "cell_type": "code",
   "execution_count": null,
   "metadata": {},
   "outputs": [],
   "source": []
  },
  {
   "cell_type": "code",
   "execution_count": null,
   "metadata": {},
   "outputs": [],
   "source": []
  },
  {
   "cell_type": "code",
   "execution_count": null,
   "metadata": {},
   "outputs": [],
   "source": []
  },
  {
   "cell_type": "code",
   "execution_count": null,
   "metadata": {},
   "outputs": [],
   "source": []
  },
  {
   "cell_type": "code",
   "execution_count": null,
   "metadata": {},
   "outputs": [],
   "source": []
  },
  {
   "cell_type": "code",
   "execution_count": null,
   "metadata": {},
   "outputs": [],
   "source": []
  },
  {
   "cell_type": "code",
   "execution_count": null,
   "metadata": {},
   "outputs": [],
   "source": []
  },
  {
   "cell_type": "code",
   "execution_count": null,
   "metadata": {},
   "outputs": [],
   "source": []
  },
  {
   "cell_type": "code",
   "execution_count": null,
   "metadata": {},
   "outputs": [],
   "source": []
  },
  {
   "cell_type": "code",
   "execution_count": null,
   "metadata": {},
   "outputs": [],
   "source": []
  },
  {
   "cell_type": "code",
   "execution_count": null,
   "metadata": {},
   "outputs": [],
   "source": []
  },
  {
   "cell_type": "code",
   "execution_count": null,
   "metadata": {},
   "outputs": [],
   "source": []
  }
 ],
 "metadata": {
  "kernelspec": {
   "display_name": "Python 3",
   "language": "python",
   "name": "python3"
  },
  "language_info": {
   "codemirror_mode": {
    "name": "ipython",
    "version": 3
   },
   "file_extension": ".py",
   "mimetype": "text/x-python",
   "name": "python",
   "nbconvert_exporter": "python",
   "pygments_lexer": "ipython3",
   "version": "3.7.3"
  }
 },
 "nbformat": 4,
 "nbformat_minor": 2
}
